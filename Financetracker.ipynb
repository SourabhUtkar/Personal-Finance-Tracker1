{
 "cells": [
  {
   "cell_type": "code",
   "execution_count": 2,
   "metadata": {},
   "outputs": [],
   "source": [
    "import pandas as pd\n",
    "import numpy as np\n"
   ]
  },
  {
   "cell_type": "code",
   "execution_count": null,
   "metadata": {},
   "outputs": [
    {
     "name": "stdout",
     "output_type": "stream",
     "text": [
      "         Date       Description   Category  Amount\n",
      "0  2025-03-01            Salary     Income   50000\n",
      "1  2025-03-02         Groceries       Food   -2000\n",
      "2  2025-03-03              Rent       Rent  -15000\n",
      "3  2025-03-04  Electricity Bill  Utilities   -3000\n",
      "4  2025-03-05            Coffee       Food    -500\n"
     ]
    }
   ],
   "source": [
    "\n",
    "# Load the data from the CSV file\n",
    "data = pd.read_csv(\"D:/SOURABH/DS2024/py2025/finance_data.csv\")\n",
    "\n",
    "# Show first few rows of the data\n",
    "print(data.head())\n"
   ]
  },
  {
   "cell_type": "code",
   "execution_count": 5,
   "metadata": {},
   "outputs": [
    {
     "name": "stdout",
     "output_type": "stream",
     "text": [
      "         Date              Type   Category  Amount\n",
      "0  2025-03-01            Salary     Income   50000\n",
      "1  2025-03-02         Groceries       Food   -2000\n",
      "2  2025-03-03              Rent       Rent  -15000\n",
      "3  2025-03-04  Electricity Bill  Utilities   -3000\n",
      "4  2025-03-05            Coffee       Food    -500\n"
     ]
    }
   ],
   "source": [
    "# Rename columns \n",
    "data.rename(columns={\"Description\": \"Type\", \"Category\": \"Category\", \"Amount\": \"Amount\"}, inplace=True)\n",
    "\n",
    "print(data.head())\n"
   ]
  },
  {
   "cell_type": "code",
   "execution_count": null,
   "metadata": {},
   "outputs": [
    {
     "name": "stdout",
     "output_type": "stream",
     "text": [
      "Date        0\n",
      "Type        0\n",
      "Category    0\n",
      "Amount      0\n",
      "dtype: int64\n"
     ]
    }
   ],
   "source": [
    "# Checking for missing values\n",
    "print(data.isnull().sum())\n",
    "\n"
   ]
  },
  {
   "cell_type": "code",
   "execution_count": null,
   "metadata": {},
   "outputs": [
    {
     "name": "stdout",
     "output_type": "stream",
     "text": [
      "         Date              Type   Category  Amount  Net_Amount\n",
      "0  2025-03-01            Salary     Income   50000       50000\n",
      "1  2025-03-02         Groceries       Food   -2000       -2000\n",
      "2  2025-03-03              Rent       Rent  -15000      -15000\n",
      "3  2025-03-04  Electricity Bill  Utilities   -3000       -3000\n",
      "4  2025-03-05            Coffee       Food    -500        -500\n"
     ]
    }
   ],
   "source": [
    "\n",
    "# Add a column for Net Amount\n",
    "data[\"Net_Amount\"] = np.where(data[\"Type\"] == \"Income\", data[\"Amount\"], data[\"Amount\"])\n",
    "\n",
    "# Show the updated data\n",
    "print(data.head())\n"
   ]
  },
  {
   "cell_type": "code",
   "execution_count": null,
   "metadata": {},
   "outputs": [
    {
     "name": "stdout",
     "output_type": "stream",
     "text": [
      "Total Income: ₹92000\n",
      "Total Expenses: ₹51700\n",
      "Net Balance: ₹40300\n"
     ]
    }
   ],
   "source": [
    "# Calculate total income\n",
    "total_income = data[data[\"Category\"] == \"Income\"][\"Amount\"].sum()\n",
    "\n",
    "# Calculate total expenses\n",
    "total_expense = data[data[\"Category\"] != \"Income\"][\"Amount\"].sum()\n",
    "\n",
    "# Calculate net balance\n",
    "net_balance = total_income + total_expense\n",
    "\n",
    "\n",
    "print(f\"Total Income: ₹{total_income}\")\n",
    "print(f\"Total Expenses: ₹{abs(total_expense)}\")  # Taking the absolute value for better readability\n",
    "print(f\"Net Balance: ₹{net_balance}\")\n"
   ]
  },
  {
   "cell_type": "code",
   "execution_count": 10,
   "metadata": {},
   "outputs": [
    {
     "name": "stdout",
     "output_type": "stream",
     "text": [
      "\n",
      "Spending Summary by Category:\n",
      "Category\n",
      "Charity          -1000\n",
      "Debt             -8000\n",
      "Education        -1500\n",
      "Entertainment    -1200\n",
      "Food             -7800\n",
      "Health           -3000\n",
      "Income           92000\n",
      "Maintenance      -2500\n",
      "Rent            -15000\n",
      "Shopping         -4000\n",
      "Transport        -3000\n",
      "Utilities        -4700\n",
      "Name: Amount, dtype: int64\n"
     ]
    }
   ],
   "source": [
    "# Group by 'Category' and calculate total amounts\n",
    "category_summary = data.groupby(\"Category\")[\"Amount\"].sum()\n",
    "\n",
    "print(\"\\nSpending Summary by Category:\")\n",
    "print(category_summary)\n",
    "\n"
   ]
  },
  {
   "cell_type": "code",
   "execution_count": null,
   "metadata": {},
   "outputs": [
    {
     "name": "stdout",
     "output_type": "stream",
     "text": [
      "\n",
      "Daily Financial Summary:\n",
      "Date\n",
      "2025-03-01    50000\n",
      "2025-03-02    -2000\n",
      "2025-03-03   -15000\n",
      "2025-03-04    -3000\n",
      "2025-03-05     -500\n",
      "2025-03-06    10000\n",
      "2025-03-07    -1500\n",
      "2025-03-08    -1200\n",
      "2025-03-09    15000\n",
      "2025-03-10    -1000\n",
      "2025-03-11    -2000\n",
      "2025-03-12     -700\n",
      "2025-03-13    -1800\n",
      "2025-03-14    -8000\n",
      "2025-03-15     5000\n",
      "2025-03-16    -4000\n",
      "2025-03-17    -3000\n",
      "2025-03-18     -500\n",
      "2025-03-19    -1200\n",
      "2025-03-20     -800\n",
      "2025-03-21    12000\n",
      "2025-03-22    -1500\n",
      "2025-03-23    -1000\n",
      "2025-03-24     -500\n",
      "2025-03-25    -2500\n",
      "Name: Amount, dtype: int64\n"
     ]
    }
   ],
   "source": [
    "# Convert 'Date' column to datetime format\n",
    "data[\"Date\"] = pd.to_datetime(data[\"Date\"])\n",
    "\n",
    "# Group by date \n",
    "daily_summary = data.groupby(\"Date\")[\"Amount\"].sum()\n",
    "\n",
    "print(\"\\nDaily Financial Summary:\")\n",
    "print(daily_summary)\n"
   ]
  },
  {
   "cell_type": "code",
   "execution_count": 18,
   "metadata": {},
   "outputs": [
    {
     "name": "stdout",
     "output_type": "stream",
     "text": [
      "Category-wise summary has been successfully saved to 'category_summary.csv'.\n",
      "Daily financial summary has been successfully saved to 'daily_summary.csv'.\n"
     ]
    }
   ],
   "source": [
    "# Export category summary to a CSV file\n",
    "category_summary.to_csv(\"category_summary.csv\", header=True)\n",
    "print(\"Category-wise summary has been successfully saved to 'category_summary.csv'.\")\n",
    "\n",
    "# Export daily summary to a CSV file\n",
    "daily_summary.to_csv(\"daily_summary.csv\", header=True)\n",
    "print(\"Daily financial summary has been successfully saved to 'daily_summary.csv'.\")\n"
   ]
  },
  {
   "cell_type": "code",
   "execution_count": null,
   "metadata": {},
   "outputs": [],
   "source": []
  }
 ],
 "metadata": {
  "kernelspec": {
   "display_name": "Python 3",
   "language": "python",
   "name": "python3"
  },
  "language_info": {
   "codemirror_mode": {
    "name": "ipython",
    "version": 3
   },
   "file_extension": ".py",
   "mimetype": "text/x-python",
   "name": "python",
   "nbconvert_exporter": "python",
   "pygments_lexer": "ipython3",
   "version": "3.12.4"
  }
 },
 "nbformat": 4,
 "nbformat_minor": 2
}
